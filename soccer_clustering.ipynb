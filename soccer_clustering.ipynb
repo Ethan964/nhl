{
 "cells": [
  {
   "cell_type": "code",
   "execution_count": null,
   "id": "8fa2140c",
   "metadata": {},
   "outputs": [
    {
     "name": "stderr",
     "output_type": "stream",
     "text": [
      "/Users/longer/nhl/.venv/lib/python3.9/site-packages/urllib3/__init__.py:35: NotOpenSSLWarning: urllib3 v2 only supports OpenSSL 1.1.1+, currently the 'ssl' module is compiled with 'LibreSSL 2.8.3'. See: https://github.com/urllib3/urllib3/issues/3020\n",
      "  warnings.warn(\n"
     ]
    }
   ],
   "source": [
    "# import necessary packages\n",
    "import requests\n",
    "import pandas as pd \n",
    "import numpy as np \n",
    "import matplotlib.pyplot as plt \n",
    "from sklearn.preprocessing import StandardScaler\n",
    "from sklearn.cluster import KMeans\n",
    "import json"
   ]
  },
  {
   "cell_type": "code",
   "execution_count": null,
   "id": "2eef1ac8",
   "metadata": {},
   "outputs": [],
   "source": [
    "# initialize api key to .txt file\n",
    "api_key = 'soccer_api.txt'"
   ]
  },
  {
   "cell_type": "code",
   "execution_count": null,
   "id": "f11d3f62",
   "metadata": {},
   "outputs": [],
   "source": [
    "# setup api according to documentation\n",
    "headers = {\n",
    "    'x-rapidapi-host': 'v3.football.api-sports.io',\n",
    "    'x-rapidapi-key' : api_key\n",
    "}\n",
    "\n",
    "# setup function to extract data from the api\n",
    "def get_api_key(endpoint):\n",
    "    url = f'https://v3.football.api-sports.io/{endpoint}'\n",
    "    response = requests.get(url, headers=headers)\n",
    "    return response.json()\n"
   ]
  },
  {
   "cell_type": "code",
   "execution_count": null,
   "id": "06d3dc6d",
   "metadata": {},
   "outputs": [],
   "source": [
    "# example of api call to retrieve leagues\n",
    "leagues = get_api_key('/leagues')\n",
    "with open ('leagues.json', 'w') as f:\n",
    "    json.dump(leagues, f, indent=2)"
   ]
  }
 ],
 "metadata": {
  "kernelspec": {
   "display_name": ".venv",
   "language": "python",
   "name": "python3"
  },
  "language_info": {
   "codemirror_mode": {
    "name": "ipython",
    "version": 3
   },
   "file_extension": ".py",
   "mimetype": "text/x-python",
   "name": "python",
   "nbconvert_exporter": "python",
   "pygments_lexer": "ipython3",
   "version": "3.9.6"
  }
 },
 "nbformat": 4,
 "nbformat_minor": 5
}
